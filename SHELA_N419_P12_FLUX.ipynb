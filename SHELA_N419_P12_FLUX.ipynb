{
 "cells": [
  {
   "cell_type": "code",
   "execution_count": 4,
   "id": "079d16d0",
   "metadata": {},
   "outputs": [],
   "source": [
    "from astropy.io import fits\n",
    "from astropy.table import Table\n",
    "import numpy as np\n",
    "import pandas as pd"
   ]
  },
  {
   "cell_type": "code",
   "execution_count": 8,
   "id": "0dda243c",
   "metadata": {},
   "outputs": [],
   "source": [
    "#cat= pd.read_csv('/home/kei/Escritorio/cats/LAE_catalog_SHELA_P12_rg-n419_SE_2024_09_19_expanded.csv')\n",
    "cat= pd.read_csv('https://raw.githubusercontent.com/keiclouds/LAE_COD/refs/heads/main/LAE_catalog_SHELA_P12_rg-n419_SE_2024_09_19_expanded.csv')"
   ]
  },
  {
   "cell_type": "code",
   "execution_count": null,
   "id": "d17b05d7",
   "metadata": {},
   "outputs": [
    {
     "name": "stderr",
     "output_type": "stream",
     "text": [
      "Downloading...\n",
      "From (original): https://drive.google.com/uc?id=1IfO2698pXm9RO_9gEpdhZd343OiW8Xtp\n",
      "From (redirected): https://drive.google.com/uc?id=1IfO2698pXm9RO_9gEpdhZd343OiW8Xtp&confirm=t&uuid=15cf4086-594d-4643-803d-fde62270b9f0\n",
      "To: /workspaces/LAE_COD/SHELA_P12_N419_allband_merged_cat_feb2024.fits\n",
      "100%|██████████| 848M/848M [00:10<00:00, 81.7MB/s] \n"
     ]
    },
    {
     "data": {
      "text/plain": [
       "'SHELA_P12_N419_allband_merged_cat_feb2024.fits'"
      ]
     },
     "execution_count": 18,
     "metadata": {},
     "output_type": "execute_result"
    }
   ],
   "source": [
    "#import gdown\n",
    "#gdown.download(id=\"1IfO2698pXm9RO_9gEpdhZd343OiW8Xtp\", output=\"SHELA_P12_N419_allband_merged_cat_feb2024.fits\", quiet=False)\n"
   ]
  },
  {
   "cell_type": "code",
   "execution_count": 19,
   "id": "fa2abfc9",
   "metadata": {},
   "outputs": [],
   "source": [
    "#file = '/home/kei/Escritorio/cats/SHELA_P12_N419_allband_merged_cat_feb2024.fits'\n",
    "file = '/workspaces/LAE_COD/SHELA_P12_N419_allband_merged_cat_feb2024.fits'\n",
    "hdul = fits.open(file)\n",
    "tabla = Table(hdul['LDAC_OBJECTS'].data)"
   ]
  },
  {
   "cell_type": "code",
   "execution_count": 20,
   "id": "4f47303e",
   "metadata": {},
   "outputs": [],
   "source": [
    "# Extraer MAG_APER y MAGERR_APER, y quedarnos con la columna 3, las cuales corresponden a N419 (índice 3)\n",
    "tabla['MAG_APER_3'] = np.array(tabla['MAG_APER'].tolist())[:, 3]\n",
    "tabla['MAGERR_APER_3'] = np.array(tabla['MAGERR_APER'].tolist())[:, 3]\n",
    "tabla['FLUX_RADIUS_3'] = np.array(tabla['FLUX_RADIUS'].tolist())[:, 2]\n",
    "tabla['FLUX_APER_3']= np.array(tabla['FLUX_APER'].tolist())[:, 3]\n",
    "tabla['FLUXERR_APER_3']= np.array(tabla['FLUXERR_APER'].tolist())[:, 3]\n",
    "tabla['FLUX_APER_G_3']= np.array(tabla['FLUX_APER_G'].tolist())[:, 3]\n",
    "tabla['FLUXERR_APER_G_3']= np.array(tabla['FLUXERR_APER_G'].tolist())[:, 3]\n",
    "tabla['FLUX_APER_R_3']= np.array(tabla['FLUX_APER_R'].tolist())[:, 3]\n",
    "tabla['FLUXERR_APER_R_3']= np.array(tabla['FLUXERR_APER_R'].tolist())[:, 3]"
   ]
  },
  {
   "cell_type": "code",
   "execution_count": 21,
   "id": "2e790c7c",
   "metadata": {},
   "outputs": [],
   "source": [
    "# Filtrar solo columnas de una dimensión para pasar a pandas\n",
    "colfilt = [col for col in tabla.colnames if len(tabla[col].shape) <= 1]\n",
    "tabla = tabla[colfilt]\n"
   ]
  },
  {
   "cell_type": "code",
   "execution_count": 22,
   "id": "7bb660cf",
   "metadata": {},
   "outputs": [
    {
     "name": "stdout",
     "output_type": "stream",
     "text": [
      "Total de filas antes del modelo híbrido: 431525\n"
     ]
    }
   ],
   "source": [
    "# Columnas necesarias para análisis\n",
    "cols_necesarias = [\n",
    "    'NUMBER', 'X_WORLD', 'Y_WORLD',\n",
    "    'MAG_AUTO_G', 'MAGERR_AUTO_G', 'MAG_AUTO_R', 'MAGERR_AUTO_R',\n",
    "    'MAG_APER_3', 'MAGERR_APER_3','FLUX_APER_3','FLUXERR_APER_3', 'FLUX_APER_G_3','FLUXERR_APER_G_3','FLUX_APER_R_3','FLUXERR_APER_R_3',\n",
    "    'FLUX_AUTO_G', 'FLUXERR_AUTO_G', 'FLUX_AUTO_R', 'FLUXERR_AUTO_R',\n",
    "    'IMAFLAGS_ISO', 'FLAGS', 'CLASS_STAR',\n",
    "    'ELLIPTICITY', 'KRON_RADIUS', 'FWHM_WORLD', 'FLUX_RADIUS_3'\n",
    "]\n",
    "\n",
    "df = tabla[cols_necesarias].to_pandas()\n",
    "print(\"Total de filas antes del modelo híbrido:\", len(df))\n"
   ]
  },
  {
   "cell_type": "code",
   "execution_count": 23,
   "id": "9c4d04dc",
   "metadata": {},
   "outputs": [
    {
     "name": "stdout",
     "output_type": "stream",
     "text": [
      "Condición 1:\n",
      "cond1\n",
      "True     431162\n",
      "False       363\n",
      "Name: count, dtype: int64 \n",
      "\n",
      "Condición 2:\n",
      "cond2\n",
      "True     431210\n",
      "False       315\n",
      "Name: count, dtype: int64 \n",
      "\n",
      "Condición 3:\n",
      "cond3\n",
      "True    431525\n",
      "Name: count, dtype: int64 \n",
      "\n",
      "Condición 4:\n",
      "cond4\n",
      "True     412479\n",
      "False     19046\n",
      "Name: count, dtype: int64 \n",
      "\n",
      "Condición 5:\n",
      "cond5\n",
      "True     428826\n",
      "False      2699\n",
      "Name: count, dtype: int64 \n",
      "\n",
      "Condición 6:\n",
      "cond6\n",
      "True     430301\n",
      "False      1224\n",
      "Name: count, dtype: int64 \n",
      "\n"
     ]
    }
   ],
   "source": [
    "# --- Aplicar cortes de calidad ---\n",
    "# 1. FLUX ≠ 0 y MAGERR_APER ≠ 0\n",
    "df['cond1'] = (df['FLUX_APER_G_3'] != 0)\n",
    "df['cond2'] = (df['FLUX_APER_R_3'] != 0)\n",
    "df['cond3'] = (df['FLUXERR_APER_3'] != 0)\n",
    "\n",
    "# 2. S/N > 5 para MAG_APER_3\n",
    "df['cond4'] = (df['FLUX_APER_3'] / df['FLUXERR_APER_3']) >= 5.\n",
    "\n",
    "# 3. IMAFLAGS_ISO = 0\n",
    "df['cond5'] = (df['IMAFLAGS_ISO'] == 0.0)\n",
    "\n",
    "# 4. FLAGS < 4\n",
    "df['cond6'] = (df['FLAGS'] < 4.0)\n",
    "\n",
    "# Revisar cuántas cumplen cada condición\n",
    "for i in range(1, 7):\n",
    "    print(f'Condición {i}:')\n",
    "    print(df[f'cond{i}'].value_counts(), '\\n')"
   ]
  },
  {
   "cell_type": "code",
   "execution_count": null,
   "id": "0e46eee7",
   "metadata": {},
   "outputs": [],
   "source": []
  },
  {
   "cell_type": "code",
   "execution_count": 24,
   "id": "2472c2f8",
   "metadata": {},
   "outputs": [
    {
     "name": "stdout",
     "output_type": "stream",
     "text": [
      "Número final de objetos tras cortes: 431525\n"
     ]
    }
   ],
   "source": [
    "calidad=df[[f'cond{i}' for i in range(1, 7)]].all(axis=1)\n",
    "print(f'Número final de objetos tras cortes: {len(calidad)}')\n"
   ]
  },
  {
   "cell_type": "code",
   "execution_count": 25,
   "id": "604911d9",
   "metadata": {},
   "outputs": [],
   "source": [
    "# Parámetro w419 según Firestone (Tabla 2)\n",
    "w419 = -0.438 "
   ]
  },
  {
   "cell_type": "code",
   "execution_count": 27,
   "id": "4b80cfd4",
   "metadata": {},
   "outputs": [
    {
     "name": "stderr",
     "output_type": "stream",
     "text": [
      "/home/codespace/.local/lib/python3.12/site-packages/pandas/core/arraylike.py:399: RuntimeWarning: divide by zero encountered in log10\n",
      "  result = getattr(ufunc, method)(*inputs, **kwargs)\n",
      "/home/codespace/.local/lib/python3.12/site-packages/pandas/core/arraylike.py:399: RuntimeWarning: invalid value encountered in log10\n",
      "  result = getattr(ufunc, method)(*inputs, **kwargs)\n"
     ]
    }
   ],
   "source": [
    "#calculo SN\n",
    "import numpy as np\n",
    "\n",
    "# Calcular S/N para bandas G y R\n",
    "df['SN_G'] = df['FLUX_APER_G_3'] / df['FLUXERR_APER_G_3']\n",
    "df['SN_R'] = df['FLUX_APER_R_3'] / df['FLUXERR_APER_R_3']\n",
    "\n",
    "# Crear máscaras según el S/N\n",
    "grupo_mag = (df['SN_G'] >= 3) & (df['SN_R'] >= 3)\n",
    "grupo_flux = ~grupo_mag  # los que tienen S/N < 3 en al menos una banda\n",
    "\n",
    "# Inicializar columnas\n",
    "df['rg_mag'] = np.nan\n",
    "df['rg_err'] = np.nan\n",
    "df['rg_flux'] = np.nan  # solo se usará para el grupo de flujos\n",
    "\n",
    "# --- Grupo 1: usar modelo de magnitudes estimadas desde flujo ---\n",
    "# Convertir FLUX_APER a magnitud sin constante adicional\n",
    "mag_r = -2.5 * np.log10(df['FLUX_APER_R_3'])\n",
    "mag_g = -2.5 * np.log10(df['FLUX_APER_G_3'])\n",
    "\n",
    "# Errores de magnitud (sin constante)\n",
    "err_r = (2.5 / np.log(10)) * (df['FLUXERR_APER_R_3'] / df['FLUX_APER_R_3'])\n",
    "err_g = (2.5 / np.log(10)) * (df['FLUXERR_APER_G_3'] / df['FLUX_APER_G_3'])\n",
    "\n",
    "# Aplicar interpolación en magnitudes\n",
    "df.loc[grupo_mag, 'rg_mag'] = w419 * mag_r[grupo_mag] + (1 - w419) * mag_g[grupo_mag]\n",
    "df.loc[grupo_mag, 'rg_err'] = np.sqrt((w419 * err_r[grupo_mag])**2 + ((1 - w419) * err_g[grupo_mag])**2)\n",
    "\n",
    "# --- Grupo 2: usar modelo de flujos directamente ---\n",
    "df.loc[grupo_flux, 'rg_flux'] = (\n",
    "    w419 * df.loc[grupo_flux, 'FLUX_APER_R_3'] + (1 - w419) * df.loc[grupo_flux, 'FLUX_APER_G_3']\n",
    ")\n",
    "\n",
    "# Eliminar entradas no válidas (nan o flujo negativo)\n",
    "grupo_flux_valid = grupo_flux & (df['rg_flux'] > 0)\n",
    "\n",
    "df.loc[grupo_flux_valid, 'rg_mag'] = -2.5 * np.log10(df.loc[grupo_flux_valid, 'rg_flux'])\n",
    "\n",
    "# Error asociado\n",
    "df.loc[grupo_flux_valid, 'rg_err'] = (\n",
    "    (2.5 / np.log(10)) *\n",
    "    (np.sqrt(\n",
    "        (w419 * df.loc[grupo_flux_valid, 'FLUXERR_APER_R_3'])**2 +\n",
    "        ((1 - w419) * df.loc[grupo_flux_valid, 'FLUXERR_APER_G_3'])**2\n",
    "    ) / df.loc[grupo_flux_valid, 'rg_flux'])\n",
    ")\n"
   ]
  },
  {
   "cell_type": "code",
   "execution_count": 28,
   "id": "5c651453",
   "metadata": {},
   "outputs": [],
   "source": [
    "from astropy.io import ascii\n",
    "t419txt= ascii.read('https://raw.githubusercontent.com/keiclouds/LAE_COD/refs/heads/main/N419_simulated_transmission_f3.6.txt')\n",
    "t419 = t419txt.to_pandas()\n",
    "#cargamos la data de las broadbans g,r,i,z,Y:\n",
    "\n",
    "#BBtxt = ascii.read('/Users/pauly/Downloads/broadbands.txt')\n",
    "BBtxt = ascii.read('https://raw.githubusercontent.com/keiclouds/LAE_COD/refs/heads/main/broadbands.txt')\n",
    "#conversion de la \"tabla\" a un DataFrame de Pandas para poder utilizar función apply\n",
    "BB = BBtxt.to_pandas()\n",
    "\n",
    "#LAMBDA estaba en angstrom y los filtros son adiminesionales \n",
    "BB['wave'] = BB['LAMBDA']*(0.1)\n",
    "\n",
    "#BB['gr'] = BB.apply(lambda row: w * row['g'] + (1 - w) * row['r'], axis=1)  # Transmisión\n",
    "\n",
    "BB['rg'] = BB.apply(lambda row: w419 * row['r'] + (1 - w419) * row['g'], axis=1)  # Transmisión\n",
    "\n",
    "#BB"
   ]
  },
  {
   "cell_type": "code",
   "execution_count": 29,
   "id": "a51fd3d6",
   "metadata": {},
   "outputs": [
    {
     "name": "stdout",
     "output_type": "stream",
     "text": [
      "El área total bajo la curva es: 14738244942500.0\n",
      "El error total estimado es: 0.01978580496120696\n"
     ]
    }
   ],
   "source": [
    "import scipy.integrate as integrate\n",
    "from scipy.integrate import quad\n",
    "def integrand(x, c, T_BB):\n",
    "    return (c * T_BB) / (x**2)\n",
    "\n",
    "a, b = 400, 480\n",
    "c = 3 * 10**14\n",
    "integrals_quad = []\n",
    "errors_quad = []\n",
    "\n",
    "for index, row in BB.iterrows():\n",
    "    integral, error = quad(integrand, a, b, args=(c, row['rg']))\n",
    "    integrals_quad.append(integral)\n",
    "    errors_quad.append(error)\n",
    "    \n",
    "BB['area'] = integrals_quad\n",
    "BB['error'] = errors_quad\n",
    "area_rg = BB['area'].sum()\n",
    "total_error_rg = np.sqrt(np.sum(np.array(errors_quad)**2))\n",
    "print(\"El área total bajo la curva es:\", area_rg)\n",
    "print(\"El error total estimado es:\", total_error_rg)"
   ]
  },
  {
   "cell_type": "code",
   "execution_count": 30,
   "id": "f9198dbd",
   "metadata": {},
   "outputs": [
    {
     "name": "stdout",
     "output_type": "stream",
     "text": [
      "El área total bajo la curva es: 4584035245000.0\n",
      "El error total estimado es: 0.0076973615891856376\n"
     ]
    }
   ],
   "source": [
    "wave = t419['Wavelength[nm]']\n",
    "T = t419['Transmission']\n",
    "\n",
    "def integrand(x, c, T):\n",
    "    return (c * T) / (x**2)\n",
    "\n",
    "a, b = 400, 480\n",
    "c = 3 * 10**14\n",
    "integrals_quad = []\n",
    "errors_quad = []\n",
    "\n",
    "for index, row in t419.iterrows():\n",
    "    integral, error = quad(integrand, a, b, args=(c, row['Transmission']))\n",
    "    integrals_quad.append(integral)\n",
    "    errors_quad.append(error)\n",
    "    \n",
    "t419['area'] = integrals_quad\n",
    "t419['error'] = errors_quad\n",
    "area_n419 = t419['area'].sum()\n",
    "total_error_n419 = np.sqrt(np.sum(np.array(errors_quad)**2))\n",
    "print(\"El área total bajo la curva es:\", area_n419)\n",
    "print(\"El error total estimado es:\", total_error_n419)"
   ]
  },
  {
   "cell_type": "code",
   "execution_count": 31,
   "id": "f3eb7cff",
   "metadata": {},
   "outputs": [
    {
     "data": {
      "text/plain": [
       "np.float64(0.31102992675750885)"
      ]
     },
     "execution_count": 31,
     "metadata": {},
     "output_type": "execute_result"
    }
   ],
   "source": [
    "C = area_n419 / area_rg\n",
    "C"
   ]
  },
  {
   "cell_type": "code",
   "execution_count": 32,
   "id": "535e3178",
   "metadata": {},
   "outputs": [
    {
     "name": "stdout",
     "output_type": "stream",
     "text": [
      "condition1:\n",
      "condition1\n",
      "False    420488\n",
      "True      11037\n",
      "Name: count, dtype: int64 \n",
      "\n",
      "condition2:\n",
      "condition2\n",
      "False    400967\n",
      "True      30558\n",
      "Name: count, dtype: int64 \n",
      "\n",
      "condition3:\n",
      "condition3\n",
      "True     424874\n",
      "False      6651\n",
      "Name: count, dtype: int64 \n",
      "\n",
      "condition4:\n",
      "condition4\n",
      "True     395697\n",
      "False     35828\n",
      "Name: count, dtype: int64 \n",
      "\n",
      "condition5:\n",
      "condition5\n",
      "True     420644\n",
      "False     10881\n",
      "Name: count, dtype: int64 \n",
      "\n",
      "condition6:\n",
      "condition6\n",
      "True     383246\n",
      "False     48279\n",
      "Name: count, dtype: int64 \n",
      "\n"
     ]
    },
    {
     "name": "stderr",
     "output_type": "stream",
     "text": [
      "/home/codespace/.local/lib/python3.12/site-packages/pandas/core/arraylike.py:399: RuntimeWarning: invalid value encountered in log10\n",
      "  result = getattr(ufunc, method)(*inputs, **kwargs)\n",
      "/home/codespace/.local/lib/python3.12/site-packages/pandas/core/arraylike.py:399: RuntimeWarning: invalid value encountered in log10\n",
      "  result = getattr(ufunc, method)(*inputs, **kwargs)\n",
      "/home/codespace/.local/lib/python3.12/site-packages/pandas/core/arraylike.py:399: RuntimeWarning: invalid value encountered in log10\n",
      "  result = getattr(ufunc, method)(*inputs, **kwargs)\n"
     ]
    }
   ],
   "source": [
    "# Condición 1: exceso de banda estrecha mínimo\n",
    "# Usar 'rg_mag' calculado en lugar de 'MAG_APER_3'\n",
    "df['condition1'] = (df['rg_mag'] - (-2.5 * np.log10(df['FLUX_APER_3']))) >= 0.71\n",
    "\n",
    "# Condición 2: exceso mayor que 3σ\n",
    "# Usar 'rg_err' calculado en lugar de 'MAGERR_APER_3'\n",
    "df['sigma_err'] = np.sqrt(df['rg_err']**2 + (2.5 / np.log(10)) * (df['FLUXERR_APER_3'] / df['FLUX_APER_3'])**2)\n",
    "df['condition2'] = (df['rg_mag'] - (-2.5 * np.log10(df['FLUX_APER_3']))) >= (3 * df['sigma_err'])\n",
    "\n",
    "# Condición 3: brillo comparable a una línea de emisión pura\n",
    "df['condition3'] = (df['rg_mag'] - (-2.5 * np.log10(df['FLUX_APER_3']))) < (-2.5 * np.log10(C) + 2 * df['sigma_err'])\n",
    "\n",
    "# Condición 4: radio efectivo menor que 1.38 arcsec\n",
    "pixel_scale = 0.168  # arcsec/pixel (valor común para HSC)\n",
    "\n",
    "# Convertir R50 de pix a arcsec\n",
    "df['FLUX_RADIUS_3_ARC'] = df['FLUX_RADIUS_3'] * pixel_scale\n",
    "\n",
    "# Aplicar la condición 4: R50 < 1.38 arcsec\n",
    "df['condition4'] = df['FLUX_RADIUS_3_ARC'] < 1.38\n",
    "\n",
    "# Condición 5: magnitud en banda estrecha mayor o igual a 20\n",
    "# Usar 'rg_mag' calculado en lugar de 'MAG_APER_3'\n",
    "df['condition5'] = df['rg_mag'] >= 20\n",
    "\n",
    "# Condición 6: magnitud en banda estrecha menor que el límite 5σ (25.5 para N419)\n",
    "df['condition6'] = df['rg_mag'] < 25.5\n",
    "\n",
    "# Imprimir conteos\n",
    "for cond in ['condition1', 'condition2', 'condition3', 'condition4', 'condition5', 'condition6']:\n",
    "    print(f'{cond}:')\n",
    "    print(df[cond].value_counts(), '\\n')\n"
   ]
  },
  {
   "cell_type": "code",
   "execution_count": 33,
   "id": "4bd1b69e",
   "metadata": {},
   "outputs": [
    {
     "name": "stdout",
     "output_type": "stream",
     "text": [
      "Total de candidatos LAEs seleccionados: 733\n"
     ]
    }
   ],
   "source": [
    "# Combinar todos los cortes y condiciones\n",
    "cortes_calidad = df[[f'cond{i}' for i in range(1, 7)]].all(axis=1)\n",
    "#cortes_magnitud = df[['cortegmax', 'corteerg', 'corteg99', 'cortermax', 'corteerr', 'corter99']].all(axis=1)\n",
    "condiciones_seleccion = df[[f'condition{i}' for i in range(1, 7)]].all(axis=1)\n",
    "\n",
    "# Seleccionar solo los que cumplen todo\n",
    "#selection_1 = df[cortes_calidad & cortes_magnitud & condiciones_seleccion]\n",
    "selection_1 = df[cortes_calidad & condiciones_seleccion]\n",
    "# Ver cuántos hay\n",
    "print(f'Total de candidatos LAEs seleccionados: {len(selection_1)}')\n"
   ]
  },
  {
   "cell_type": "code",
   "execution_count": 34,
   "id": "48f9a33d",
   "metadata": {},
   "outputs": [
    {
     "name": "stdout",
     "output_type": "stream",
     "text": [
      "Número de coincidencias exactas por RA: 4\n"
     ]
    }
   ],
   "source": [
    "# Normalizar a tipo entero, por si acaso\n",
    "selection_ra = set(selection_1['X_WORLD'].astype(int))\n",
    "cat_ra = set(cat['RA'].astype(int))\n",
    "\n",
    "# Intersección\n",
    "common_ra = selection_ra.intersection(cat_ra)\n",
    "\n",
    "print(f'Número de coincidencias exactas por RA: {len(common_ra)}')\n"
   ]
  },
  {
   "cell_type": "code",
   "execution_count": 35,
   "id": "add737f5",
   "metadata": {},
   "outputs": [
    {
     "name": "stdout",
     "output_type": "stream",
     "text": [
      "Número de coincidencias exactas por ID: 4\n"
     ]
    }
   ],
   "source": [
    "# Normalizar a tipo entero, por si acaso\n",
    "selection_ids = set(selection_1['NUMBER'].astype(int))\n",
    "cat_ids = set(cat['index'].astype(int))\n",
    "\n",
    "# Intersección\n",
    "common_ids = selection_ids.intersection(cat_ids)\n",
    "\n",
    "print(f'Número de coincidencias exactas por ID: {len(common_ids)}')\n"
   ]
  },
  {
   "cell_type": "code",
   "execution_count": 36,
   "id": "ab328c09",
   "metadata": {},
   "outputs": [
    {
     "name": "stdout",
     "output_type": "stream",
     "text": [
      "Index(['index', 'RA', 'DEC', 'n419 flux (ujy)', 'n419 flux err (ujy)',\n",
      "       'rg flux (ujy)', 'rg flux err (ujy)', 'g flux (ujy)',\n",
      "       'g flux err (ujy)', 'r flux (ujy)', 'r flux err (ujy)', 'i flux (ujy)',\n",
      "       'i flux err (ujy)', 'z flux (ujy)', 'z flux err (ujy)',\n",
      "       'n501 flux (ujy)', 'n501 flux err (ujy)', 'estimated line flux (cgs)',\n",
      "       'estimated EW_rf (A)', 'estimated EW_rf error (A)'],\n",
      "      dtype='object')\n"
     ]
    }
   ],
   "source": [
    "print(cat.columns)"
   ]
  },
  {
   "cell_type": "code",
   "execution_count": 67,
   "id": "24091def",
   "metadata": {},
   "outputs": [
    {
     "data": {
      "image/png": "[encoded data removed]",
      "text/plain": [
       "<Figure size 720x432 with 1 Axes>"
      ]
     },
     "metadata": {
      "needs_background": "light"
     },
     "output_type": "display_data"
    }
   ],
   "source": [
    "import matplotlib.pyplot as plt\n",
    "\n",
    "# Crear el histograma para 'n419 flux (ujy)' y 'FLUX_APER_3'\n",
    "plt.figure(figsize=(10, 6))\n",
    "\n",
    "# Histograma para 'n419 flux (ujy)'\n",
    "plt.hist(cat['n419 flux (ujy)'], bins=30, alpha=0.5, label='cat[\"n419 flux (ujy)\"]', color='blue')\n",
    "\n",
    "# Histograma para 'FLUX_APER_3'\n",
    "plt.hist(selection_1['FLUX_APER_3'], bins=30, alpha=0.5, label='selection_1[\"FLUX_APER_3\"]', color='orange')\n",
    "plt.xlim(0,5.)\n",
    "# Añadir etiquetas y leyenda\n",
    "plt.xlabel('Flux (µJy)', fontsize=12)\n",
    "plt.ylabel('Frequency', fontsize=12)\n",
    "plt.legend()\n",
    "\n",
    "# Mostrar el gráfico\n",
    "plt.title('Histogram of Flux: n419 flux (µJy) vs. FLUX_APER_3')\n",
    "plt.show()\n"
   ]
  },
  {
   "cell_type": "code",
   "execution_count": null,
   "id": "4b43e6e0",
   "metadata": {},
   "outputs": [],
   "source": []
  }
 ],
 "metadata": {
  "kernelspec": {
   "display_name": "Python 3 (ipykernel)",
   "language": "python",
   "name": "python3"
  },
  "language_info": {
   "codemirror_mode": {
    "name": "ipython",
    "version": 3
   },
   "file_extension": ".py",
   "mimetype": "text/x-python",
   "name": "python",
   "nbconvert_exporter": "python",
   "pygments_lexer": "ipython3",
   "version": "3.12.1"
  }
 },
 "nbformat": 4,
 "nbformat_minor": 5
}
